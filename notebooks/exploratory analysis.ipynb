{
 "cells": [
  {
   "cell_type": "code",
   "execution_count": 17,
   "metadata": {},
   "outputs": [],
   "source": [
    "import json\n",
    "import glob\n",
    "import os\n",
    "from typing import Dict, List\n",
    "from itertools import chain\n",
    "from collections import Counter\n",
    "\n",
    "import numpy as np\n",
    "\n",
    "import MeCab\n",
    "\n",
    "mc = MeCab.Tagger('-Owakati')"
   ]
  },
  {
   "cell_type": "code",
   "execution_count": 4,
   "metadata": {},
   "outputs": [],
   "source": [
    "def load_jsons(data_dir: str) -> List[Dict[str, str]]:\n",
    "    \"\"\" load json files \"\"\"\n",
    "    json_paths = glob.glob(os.path.join(data_dir, \"train*.json\"))\n",
    "    article_dicts = list()\n",
    "    for json_path in json_paths:\n",
    "        with open(json_path) as json_file:\n",
    "            article_dicts.extend(json.load(json_file))\n",
    "    \n",
    "    return article_dicts\n",
    "\n",
    "def tokenize(text: str) -> List[str]:\n",
    "    return mc.parse(text).strip().split()"
   ]
  },
  {
   "cell_type": "code",
   "execution_count": 42,
   "metadata": {},
   "outputs": [
    {
     "data": {
      "text/plain": [
       "104050"
      ]
     },
     "execution_count": 42,
     "metadata": {},
     "output_type": "execute_result"
    }
   ],
   "source": [
    "article_dicts = load_jsons(\"../data/\")\n",
    "len(article_dicts)"
   ]
  },
  {
   "cell_type": "code",
   "execution_count": 9,
   "metadata": {},
   "outputs": [],
   "source": [
    "details = [article_dict['body'].replace('\\n', '') for article_dict in article_dicts]\n",
    "summaries = [\"。\".join(article_dict['summary']) for article_dict in article_dicts]"
   ]
  },
  {
   "cell_type": "code",
   "execution_count": 12,
   "metadata": {},
   "outputs": [],
   "source": [
    "source_tokens_list = list(map(lambda detail: tokenize(detail), details))\n",
    "target_tokens_list = list(map(lambda summary: tokenize(summary), summaries))"
   ]
  },
  {
   "cell_type": "code",
   "execution_count": 37,
   "metadata": {},
   "outputs": [],
   "source": [
    "source_token_lengh = list(map(lambda tokens: len(tokens), source_tokens_list))\n",
    "target_token_lengh = list(map(lambda tokens: len(tokens), target_tokens_list))"
   ]
  },
  {
   "cell_type": "code",
   "execution_count": 40,
   "metadata": {},
   "outputs": [
    {
     "data": {
      "text/plain": [
       "1052.0"
      ]
     },
     "execution_count": 40,
     "metadata": {},
     "output_type": "execute_result"
    }
   ],
   "source": [
    "np.percentile(source_token_lengh, 90)"
   ]
  },
  {
   "cell_type": "code",
   "execution_count": 32,
   "metadata": {},
   "outputs": [
    {
     "data": {
      "text/plain": [
       "(array([8.4033e+04, 1.8036e+04, 1.5040e+03, 3.4700e+02, 7.8000e+01,\n",
       "        2.4000e+01, 1.5000e+01, 3.0000e+00, 3.0000e+00, 3.0000e+00]),\n",
       " array([  35. ,  874.7, 1714.4, 2554.1, 3393.8, 4233.5, 5073.2, 5912.9,\n",
       "        6752.6, 7592.3, 8432. ]),\n",
       " <BarContainer object of 10 artists>)"
      ]
     },
     "execution_count": 32,
     "metadata": {},
     "output_type": "execute_result"
    },
    {
     "data": {
      "image/png": "[encoded data removed]",
      "text/plain": [
       "<Figure size 432x288 with 1 Axes>"
      ]
     },
     "metadata": {
      "needs_background": "light"
     },
     "output_type": "display_data"
    }
   ],
   "source": [
    "plt.hist(source_token_lengh)"
   ]
  },
  {
   "cell_type": "code",
   "execution_count": 41,
   "metadata": {},
   "outputs": [
    {
     "name": "stdout",
     "output_type": "stream",
     "text": [
      "mean 636.4\n",
      "max 13594.0\n",
      "std 399.9\n",
      "------------------------------\n",
      "mean 57.7\n",
      "max 87.0\n",
      "std 6.9\n",
      "------------------------------\n"
     ]
    }
   ],
   "source": [
    "for token_length in [source_token_lengh, target_token_lengh]:\n",
    "    print(f'mean {np.mean(token_length):.1f}')\n",
    "    print(f'max {np.max(token_length):.1f}')\n",
    "    print(f'std {np.std(token_length):.1f}')\n",
    "    print('-'*30)"
   ]
  },
  {
   "cell_type": "code",
   "execution_count": null,
   "metadata": {},
   "outputs": [],
   "source": []
  }
 ],
 "metadata": {
  "kernelspec": {
   "display_name": "venv",
   "language": "python",
   "name": "venv"
  },
  "language_info": {
   "codemirror_mode": {
    "name": "ipython",
    "version": 3
   },
   "file_extension": ".py",
   "mimetype": "text/x-python",
   "name": "python",
   "nbconvert_exporter": "python",
   "pygments_lexer": "ipython3",
   "version": "3.8.5"
  }
 },
 "nbformat": 4,
 "nbformat_minor": 2
}
