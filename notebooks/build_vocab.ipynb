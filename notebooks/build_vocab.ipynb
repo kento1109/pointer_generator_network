{
 "cells": [
  {
   "cell_type": "code",
   "execution_count": 2,
   "metadata": {},
   "outputs": [],
   "source": [
    "import json\n",
    "import glob\n",
    "import os\n",
    "from typing import Dict, List\n",
    "from itertools import chain\n",
    "from collections import Counter\n",
    "\n",
    "import MeCab"
   ]
  },
  {
   "cell_type": "code",
   "execution_count": 3,
   "metadata": {},
   "outputs": [],
   "source": [
    "mc = MeCab.Tagger('-Owakati')"
   ]
  },
  {
   "cell_type": "code",
   "execution_count": 4,
   "metadata": {},
   "outputs": [],
   "source": [
    "\n",
    "\n",
    "def load_jsons(data_dir: str) -> List[Dict[str, str]]:\n",
    "    \"\"\" load json files \"\"\"\n",
    "    json_paths = glob.glob(os.path.join(data_dir, \"*.json\"))\n",
    "    article_dicts = list()\n",
    "    for json_path in json_paths:\n",
    "        with open(json_path) as json_file:\n",
    "            article_dicts.extend(json.load(json_file))\n",
    "    \n",
    "    return article_dicts\n",
    "\n",
    "def tokenize(text: str) -> List[str]:\n",
    "    return mc.parse(text).strip().split()"
   ]
  },
  {
   "cell_type": "code",
   "execution_count": 7,
   "metadata": {},
   "outputs": [
    {
     "data": {
      "text/plain": [
       "'岡むら屋から、期間限定の新メニュー「じゃが肉めし」が登場する'"
      ]
     },
     "execution_count": 7,
     "metadata": {},
     "output_type": "execute_result"
    }
   ],
   "source": [
    "article_dicts = load_jsons(\"/home/sugimoto/document_summarizer/data\")\n",
    "details = [article_dict['body'].replace('\\n', '') for article_dict in article_dicts]\n",
    "summaries = [article_dict['summary'] for article_dict in article_dicts]\n",
    "summaries = list(chain.from_iterable(summaries))\n",
    "summaries[0]"
   ]
  },
  {
   "cell_type": "code",
   "execution_count": 8,
   "metadata": {},
   "outputs": [
    {
     "data": {
      "text/plain": [
       "31.926085915395326"
      ]
     },
     "execution_count": 8,
     "metadata": {},
     "output_type": "execute_result"
    }
   ],
   "source": [
    "sum([len(detail) for detail in details]) / len(details)\n",
    "sum([len(summary) for summary in summaries]) / len(summaries)"
   ]
  },
  {
   "cell_type": "code",
   "execution_count": 9,
   "metadata": {},
   "outputs": [],
   "source": [
    "source_tokens = list(map(lambda detail: tokenize(detail), details))\n",
    "target_tokens = list(map(lambda detail: tokenize(detail), summaries))"
   ]
  },
  {
   "cell_type": "code",
   "execution_count": 11,
   "metadata": {},
   "outputs": [],
   "source": [
    "source_tokens_counter = Counter(list(chain.from_iterable(source_tokens)))\n",
    "target_tokens_counter = Counter(list(chain.from_iterable(target_tokens)))"
   ]
  },
  {
   "cell_type": "code",
   "execution_count": 12,
   "metadata": {},
   "outputs": [
    {
     "data": {
      "text/plain": [
       "(337755, 83666)"
      ]
     },
     "execution_count": 12,
     "metadata": {},
     "output_type": "execute_result"
    }
   ],
   "source": [
    "len(source_tokens_counter), len(target_tokens_counter)"
   ]
  },
  {
   "cell_type": "code",
   "execution_count": 13,
   "metadata": {},
   "outputs": [],
   "source": [
    "vocab_size = 25000\n",
    "source_words = [word for word, _ in source_tokens_counter.most_common(vocab_size - 4)]\n",
    "target_words = [word for word, _ in target_tokens_counter.most_common(vocab_size - 4)]"
   ]
  },
  {
   "cell_type": "code",
   "execution_count": 14,
   "metadata": {},
   "outputs": [],
   "source": [
    "with open('/home/sugimoto/document_summarizer/vocab/source_vocab_25k.txt', 'w') as source_file:\n",
    "    for source_word in source_words:\n",
    "        source_file.write(f'{source_word}\\n')"
   ]
  },
  {
   "cell_type": "code",
   "execution_count": 15,
   "metadata": {},
   "outputs": [],
   "source": [
    "with open('/home/sugimoto/document_summarizer/vocab/target_vocab_25k.txt', 'w') as target_file:\n",
    "    for target_word in target_words:\n",
    "        target_file.write(f'{target_word}\\n')"
   ]
  },
  {
   "cell_type": "code",
   "execution_count": null,
   "metadata": {},
   "outputs": [],
   "source": []
  }
 ],
 "metadata": {
  "interpreter": {
   "hash": "97af583248f8fa59dbd4040e497fe0940dfc035a2fac257d6ab1d1f35682f97b"
  },
  "kernelspec": {
   "display_name": "Python 3",
   "language": "python",
   "name": "python3"
  },
  "language_info": {
   "codemirror_mode": {
    "name": "ipython",
    "version": 3
   },
   "file_extension": ".py",
   "mimetype": "text/x-python",
   "name": "python",
   "nbconvert_exporter": "python",
   "pygments_lexer": "ipython3",
   "version": "3.7.3"
  }
 },
 "nbformat": 4,
 "nbformat_minor": 2
}
