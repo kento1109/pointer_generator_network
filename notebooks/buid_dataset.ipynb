{
 "cells": [
  {
   "cell_type": "code",
   "execution_count": 1,
   "metadata": {},
   "outputs": [],
   "source": [
    "import json\n",
    "import glob\n",
    "import os\n",
    "from typing import Dict, List\n",
    "from itertools import chain\n",
    "from collections import Counter\n",
    "\n",
    "import MeCab"
   ]
  },
  {
   "cell_type": "code",
   "execution_count": 2,
   "metadata": {},
   "outputs": [],
   "source": [
    "mc = MeCab.Tagger('-Owakati')"
   ]
  },
  {
   "cell_type": "code",
   "execution_count": 4,
   "metadata": {},
   "outputs": [],
   "source": [
    "def load_jsons(data_dir: str) -> List[Dict[str, str]]:\n",
    "    \"\"\" load json files \"\"\"\n",
    "    json_paths = glob.glob(os.path.join(data_dir, \"train1.json\"))\n",
    "    article_dicts = list()\n",
    "    for json_path in json_paths:\n",
    "        with open(json_path) as json_file:\n",
    "            article_dicts.extend(json.load(json_file))\n",
    "    \n",
    "    return article_dicts\n",
    "\n",
    "def tokenize(text: str) -> List[str]:\n",
    "    return mc.parse(text).strip().split()"
   ]
  },
  {
   "cell_type": "code",
   "execution_count": 15,
   "metadata": {},
   "outputs": [
    {
     "data": {
      "text/plain": [
       "'岡むら屋から、期間限定の新メニュー「じゃが肉めし」が登場する。男爵いもなどは味噌ベースで煮こまれ、しっかり味が染み込んでいるとのこと。「岡むら屋特製肉じゃが」と言うべき一品に、仕上がっているという'"
      ]
     },
     "execution_count": 15,
     "metadata": {},
     "output_type": "execute_result"
    }
   ],
   "source": [
    "article_dicts = load_jsons(\"/home/sugimoto/document_summarizer/data\")\n",
    "details = [article_dict['body'].replace('\\n', '') for article_dict in article_dicts]\n",
    "summaries = [\"。\".join(article_dict['summary']) for article_dict in article_dicts]\n",
    "# summaries = list(chain.from_iterable(summaries))\n",
    "# summaries = list(\" 。 \".join(summaries))\n",
    "summaries[0]"
   ]
  },
  {
   "cell_type": "code",
   "execution_count": 16,
   "metadata": {},
   "outputs": [],
   "source": [
    "# source_tokens_list = list(map(lambda detail: tokenize(detail), details))\n",
    "target_tokens_list = list(map(lambda detail: tokenize(detail), summaries))"
   ]
  },
  {
   "cell_type": "code",
   "execution_count": 18,
   "metadata": {},
   "outputs": [],
   "source": [
    "with open('/home/sugimoto/document_summarizer/data/train_body.txt', 'w') as f:\n",
    "    for source_tokens in source_tokens_list[:1000]:\n",
    "        f.write(f'{\" \".join(source_tokens[:500])}\\n')"
   ]
  },
  {
   "cell_type": "code",
   "execution_count": 19,
   "metadata": {},
   "outputs": [],
   "source": [
    "with open('/home/sugimoto/document_summarizer/data/train_summary.txt', 'w') as f:\n",
    "    for target_tokens in target_tokens_list[:1000]:\n",
    "        f.write(f'{\" \".join(target_tokens[:100])}\\n')"
   ]
  },
  {
   "cell_type": "code",
   "execution_count": null,
   "metadata": {},
   "outputs": [],
   "source": []
  }
 ],
 "metadata": {
  "kernelspec": {
   "display_name": "venv",
   "language": "python",
   "name": "venv"
  },
  "language_info": {
   "codemirror_mode": {
    "name": "ipython",
    "version": 3
   },
   "file_extension": ".py",
   "mimetype": "text/x-python",
   "name": "python",
   "nbconvert_exporter": "python",
   "pygments_lexer": "ipython3",
   "version": "3.8.5"
  }
 },
 "nbformat": 4,
 "nbformat_minor": 2
}
