{
 "cells": [
  {
   "cell_type": "code",
   "execution_count": 1,
   "metadata": {},
   "outputs": [],
   "source": [
    "import sys\n",
    "sys.path.append('/home/sugimoto/document_summarizer')"
   ]
  },
  {
   "cell_type": "code",
   "execution_count": 2,
   "metadata": {},
   "outputs": [],
   "source": [
    "# import os\n",
    "# os.environ[\"CUDA_VISIBLE_DEVICES\"]=\"0\""
   ]
  },
  {
   "cell_type": "code",
   "execution_count": 3,
   "metadata": {},
   "outputs": [],
   "source": [
    "from omegaconf import OmegaConf\n",
    "import torch\n",
    "from torch.utils.data import DataLoader\n",
    "from itertools import chain"
   ]
  },
  {
   "cell_type": "code",
   "execution_count": 4,
   "metadata": {},
   "outputs": [],
   "source": [
    "cfg = OmegaConf.load('../config.yaml')"
   ]
  },
  {
   "cell_type": "code",
   "execution_count": 5,
   "metadata": {},
   "outputs": [],
   "source": [
    "from pointer_generator_network.src.vocab import Vocab\n",
    "from pointer_generator_network.src.tokenizer import Tokenizer\n",
    "from pointer_generator_network.src.model import Summarizer\n",
    "from pointer_generator_network.src.batch import SummBatch\n",
    "from pointer_generator_network.src.batch import EncBatch\n",
    "from pointer_generator_network.src.batch import BaseBatch\n",
    "from pointer_generator_network.src.trainer import Trainer"
   ]
  },
  {
   "cell_type": "code",
   "execution_count": 6,
   "metadata": {},
   "outputs": [
    {
     "name": "stderr",
     "output_type": "stream",
     "text": [
      "/home/sugimoto/venv/lib/python3.8/site-packages/ipykernel/ipkernel.py:283: DeprecationWarning: `should_run_async` will not call `transform_cell` automatically in the future. Please pass the result to `transformed_cell` argument and any exception that happen during thetransform in `preprocessing_exc_tuple` in IPython 7.17 and above.\n",
      "  and should_run_async(code)\n"
     ]
    }
   ],
   "source": [
    "from pointer_generator_network.src.vocab import SOS_TOKEN"
   ]
  },
  {
   "cell_type": "code",
   "execution_count": 7,
   "metadata": {},
   "outputs": [],
   "source": [
    "src_vocab = Vocab(cfg.source_vocab_path)\n",
    "tgt_vocab = Vocab(cfg.target_vocab_path)\n",
    "tokenizer = Tokenizer()\n",
    "model = Summarizer(cfg, tgt_vocab.word2idx[SOS_TOKEN])\n",
    "trainer = Trainer(model, tokenizer, src_vocab, tgt_vocab)"
   ]
  },
  {
   "cell_type": "code",
   "execution_count": 8,
   "metadata": {},
   "outputs": [],
   "source": [
    "import json\n",
    "json_path = \"../data/test.json\"\n",
    "with open(json_path) as json_file:\n",
    "    article_dicts = json.load(json_file)"
   ]
  },
  {
   "cell_type": "code",
   "execution_count": 39,
   "metadata": {},
   "outputs": [
    {
     "data": {
      "text/plain": [
       "{'id': '11378322',\n",
       " 'summary': ['マナーの悪い外国人観光客が増加していると、テレビ番組が報じた',\n",
       "  '桜の枝を折って注意されると、反省せずに開き直る人が多くみられる',\n",
       "  '中国人はなぜか桜に触りたがり、顔の近くに引っ張って写真を撮るという'],\n",
       " 'body': '関東では桜の見ごろになっているが、外国人観光客のマナーの悪さも目立つ。上野公園で桜の枝を折ったインドネシア人は「珍しいから持ち帰りたかった」、枝から花をむしりとったバングラデシュ人の子供の父親は「遠くからでなく近くで見たくて摘んだ」と言い訳する。なかでは中国人がひどい。立ち入り禁止場所に入って撮影していた中国人女性は、注意されると「入ったところには看板がなかったわ」と開き直る。枝に飛びついて引っぱり、写真を撮るのもザラで「ちょっと触れただけよ」と反省ゼロだ。\\n\\n\\n注意されると「落ちてるの拾った」大阪城公園にドッと押し寄せる中国人はなぜか桜に触りたがり、顔の近くに引っぱって写真を撮る。「中国人はみんな自然が大好きよ。美しいものにあこがれる。中国でも触っている」（中年女性）、「春らしく躍動感を出したいの。そばに立って撮るだけなんてダサいわ」（若い女性）と意に介さない。石垣の一角が中国人のブログで、人気のスポットになっているらしい。花を摘み取り髪飾りにした女性は、平然と「落ちているのを拾ったのよ」とトボける。国民性か、言い訳というよりウソを並べる。花びらは散り、枝はボロボロだ。中国国内では木を揺らして桜吹雪を演出して写真を撮る、木を蹴ったり上ったりの画像もある。文化の違いだからといって、日本でやりたい放題にさせていいのか。ニュースデスクの笠井信輔「国策として観光客を集めるなら、見方をアピールする必要がありますよ」司会の小倉智昭「撮影できる一角を設けたら、どうなんだろう」'}"
      ]
     },
     "execution_count": 39,
     "metadata": {},
     "output_type": "execute_result"
    }
   ],
   "source": [
    "idx = 189\n",
    "summary = '。'.join(article_dicts[idx]['summary'])\n",
    "# del article_dicts[idx]['summary']\n",
    "article_dict = article_dicts[idx]\n",
    "article_dict"
   ]
  },
  {
   "cell_type": "code",
   "execution_count": 40,
   "metadata": {},
   "outputs": [],
   "source": [
    "# example = trainer.convert_article_to_example(article_dict)\n",
    "# print(tgt_vocab.decode(example.dec.input_ids))\n",
    "# print(tgt_vocab.decode(example.dec.target_ids, example.enc.oov_words))"
   ]
  },
  {
   "cell_type": "code",
   "execution_count": 41,
   "metadata": {},
   "outputs": [
    {
     "data": {
      "text/plain": [
       "'マナーの悪い外国人観光客が増加していると、テレビ番組が報じた。桜の枝を折って注意されると、反省せずに開き直る人が多くみられる。中国人はなぜか桜に触りたがり、顔の近くに引っ張って写真を撮るという'"
      ]
     },
     "execution_count": 41,
     "metadata": {},
     "output_type": "execute_result"
    }
   ],
   "source": [
    "reference = ''.join(tokenizer(summary))\n",
    "reference"
   ]
  },
  {
   "cell_type": "code",
   "execution_count": 42,
   "metadata": {},
   "outputs": [],
   "source": [
    "# example = trainer.convert_article_to_example(article_dict)\n",
    "# trainer.evaluate(article_dicts[:5])"
   ]
  },
  {
   "cell_type": "markdown",
   "metadata": {},
   "source": [
    "## beam search decoding"
   ]
  },
  {
   "cell_type": "code",
   "execution_count": 43,
   "metadata": {},
   "outputs": [
    {
     "data": {
      "text/plain": [
       "'外国人観光客のマナーの悪さが目立つ、外国人観光客のマナーの悪さが目立つ。「[UNK]のところには看板がなかったわ」と「落ちたところには看板がなかった」と語った。「春らしく匹感を出したいの」とのこと'"
      ]
     },
     "execution_count": 43,
     "metadata": {},
     "output_type": "execute_result"
    }
   ],
   "source": [
    "example = trainer.convert_article_to_example(article_dict)\n",
    "decoded_tokens = trainer.decode(example)\n",
    "''.join(decoded_tokens)"
   ]
  },
  {
   "cell_type": "markdown",
   "metadata": {},
   "source": [
    "## calculate rouge score"
   ]
  },
  {
   "cell_type": "code",
   "execution_count": null,
   "metadata": {},
   "outputs": [],
   "source": [
    "from rouge_score import rouge_scorer\n",
    "\n",
    "scorer = rouge_scorer.RougeScorer(['rouge1', 'rouge2', 'rougeL'])"
   ]
  },
  {
   "cell_type": "code",
   "execution_count": null,
   "metadata": {},
   "outputs": [],
   "source": [
    "scorer.score(reference, ' '.join(decoded_tokens)) "
   ]
  },
  {
   "cell_type": "code",
   "execution_count": null,
   "metadata": {},
   "outputs": [],
   "source": []
  }
 ],
 "metadata": {
  "kernelspec": {
   "display_name": "venv",
   "language": "python",
   "name": "venv"
  },
  "language_info": {
   "codemirror_mode": {
    "name": "ipython",
    "version": 3
   },
   "file_extension": ".py",
   "mimetype": "text/x-python",
   "name": "python",
   "nbconvert_exporter": "python",
   "pygments_lexer": "ipython3",
   "version": "3.8.5"
  }
 },
 "nbformat": 4,
 "nbformat_minor": 2
}
