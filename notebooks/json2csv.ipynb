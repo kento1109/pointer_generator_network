{
 "cells": [
  {
   "cell_type": "code",
   "execution_count": 2,
   "metadata": {},
   "outputs": [
    {
     "data": {
      "text/plain": [
       "{'id': '11097202',\n",
       " 'summary': ['岡むら屋から、期間限定の新メニュー「じゃが肉めし」が登場する',\n",
       "  '男爵いもなどは味噌ベースで煮こまれ、しっかり味が染み込んでいるとのこと',\n",
       "  '「岡むら屋特製肉じゃが」と言うべき一品に、仕上がっているという'],\n",
       " 'body': '新橋と秋葉原に店を構える「岡むら屋」。味噌ベースの独自の味つけで牛バラ肉を煮込んだ具材がたっぷり乗ったオリジナル丼『肉めし』で知られる店です。【肉ランチ】1kgの豚丼に専門店の牛たん! 新橋の超おすすめ店8自分も新橋店で『肉めし』を食べたことがありますが、濃いめの味付けでトロットロに煮こまれた牛肉とホカホカご飯は最高の相性！ 味の染み込んだ豆腐も絶品で、腹ぺこボーイズ&ガールズたちの胃袋を満たし続けている丼なのです。昨年開催された『第2回全国丼グランプリ』では、肉丼部門で金賞受賞を獲得しています。\\n\\n\\nそんな「岡むら屋」に期間限定新メニューが登場。その名も『じゃが肉めし』！肉×芋×白米、スーパースターの競演！肉と芋――このまま名作文学のタイトルにもなりそうな、重厚かつ甘美な響き。これって食いしんぼうたちにとっては定番かつ夢の組み合わせではないでしょうか。この組み合わせではすでに「肉じゃが」という殿堂入りメニューがありますが、今回の『じゃが肉めし』は、“岡むら屋特製肉じゃが”と言うべき一品に仕上がっているそうです。北海道産の男爵いもとしらたきを合わせ、味噌ベースの大鍋で他の具材と一気に煮込むことで、しっかり味が染み込んでいるとのこと。商品写真が公開されていますが、ビジュアルを見ただけで、その染みこみ具合いは一目瞭然！丼というステージで繰り広げられる、肉×芋×白米というスーパースターの競演。肉好き必食の1杯と言えそうです。あ、定食も同時販売されるので、気分で選べるのもうれしいですね。詳しい販売期間などは、店舗にお問い合わせください。肉めし「岡むら屋」「じゃが肉めし」(税込640円)「じゃが肉皿定食」(税込740円)'}"
      ]
     },
     "execution_count": 2,
     "metadata": {},
     "output_type": "execute_result"
    }
   ],
   "source": [
    "import os\n",
    "import json\n",
    "import glob\n",
    "\n",
    "def load_from_jsons(data_path_pattern: str):\n",
    "    \"\"\" load json files \"\"\"\n",
    "    json_paths = glob.glob(os.path.join(data_path_pattern))\n",
    "    article_dicts = list()\n",
    "    for json_path in json_paths:\n",
    "        with open(json_path) as json_file:\n",
    "            article_dicts.extend(json.load(json_file))\n",
    "    return article_dicts\n",
    "\n",
    "train1_article_dicts = load_from_jsons('../../data/train1.json')\n",
    "train2_article_dicts = load_from_jsons('../../data/train2.json')\n",
    "dev_article_dicts = load_from_jsons('../../data/dev.json')\n",
    "test_article_dicts = load_from_jsons('../../data/test.json')\n",
    "\n",
    "train1_article_dicts[0]"
   ]
  },
  {
   "cell_type": "code",
   "execution_count": 3,
   "metadata": {},
   "outputs": [],
   "source": [
    "import csv\n",
    "\n",
    "def to_csv(article_dicts, output_path):\n",
    "    f = open(output_path, 'w')\n",
    "    writer = csv.writer(f, delimiter=',', lineterminator='\\n')\n",
    "    writer.writerow(['text', 'summary'])\n",
    "\n",
    "    for article in article_dicts:\n",
    "        writer.writerow([article['body'], '。'.join(article['summary'])])\n",
    "\n",
    "    f.close()\n",
    "\n",
    "\n",
    "to_csv(train1_article_dicts, '../../data/train1.csv')\n",
    "to_csv(train2_article_dicts, '../../data/train2.csv')\n",
    "to_csv(dev_article_dicts, '../../data/dev.csv')\n",
    "to_csv(test_article_dicts, '../../data/test.csv')"
   ]
  },
  {
   "cell_type": "code",
   "execution_count": null,
   "metadata": {},
   "outputs": [],
   "source": []
  }
 ],
 "metadata": {
  "kernelspec": {
   "display_name": "venv",
   "language": "python",
   "name": "venv"
  },
  "language_info": {
   "codemirror_mode": {
    "name": "ipython",
    "version": 3
   },
   "file_extension": ".py",
   "mimetype": "text/x-python",
   "name": "python",
   "nbconvert_exporter": "python",
   "pygments_lexer": "ipython3",
   "version": "3.8.5"
  }
 },
 "nbformat": 4,
 "nbformat_minor": 2
}
