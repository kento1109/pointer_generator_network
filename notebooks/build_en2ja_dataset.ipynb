{
 "cells": [
  {
   "cell_type": "code",
   "execution_count": 38,
   "metadata": {},
   "outputs": [],
   "source": [
    "import pandas as pd"
   ]
  },
  {
   "cell_type": "code",
   "execution_count": 39,
   "metadata": {},
   "outputs": [],
   "source": [
    "body_list = list()\n",
    "\n",
    "with open('/home/sugimoto/.tftf/datasets/small_parallel_enja/train.en') as f:\n",
    "    for line in f.readlines():\n",
    "        body_list.append(line.strip())"
   ]
  },
  {
   "cell_type": "code",
   "execution_count": 40,
   "metadata": {},
   "outputs": [],
   "source": [
    "summary_list = list()\n",
    "\n",
    "with open('/home/sugimoto/.tftf/datasets/small_parallel_enja/train.ja') as f:\n",
    "    for line in f.readlines():\n",
    "        summary_list.append(line.strip())"
   ]
  },
  {
   "cell_type": "code",
   "execution_count": 41,
   "metadata": {},
   "outputs": [
    {
     "data": {
      "text/plain": [
       "(6634, 8774)"
      ]
     },
     "execution_count": 41,
     "metadata": {},
     "output_type": "execute_result"
    }
   ],
   "source": [
    "from itertools import chain\n",
    "\n",
    "src_vocab =  set(list(chain.from_iterable(list(map(lambda body: body.split(), body_list)))))\n",
    "tgt_vocab =  set(list(chain.from_iterable(list(map(lambda summary: summary.split(), summary_list)))))\n",
    "\n",
    "len(src_vocab), len(tgt_vocab)"
   ]
  },
  {
   "cell_type": "code",
   "execution_count": 43,
   "metadata": {},
   "outputs": [],
   "source": [
    "with open('/home/sugimoto/document_summarizer/vocab/en_vocab.txt', 'w') as source_file:\n",
    "    for source_word in src_vocab:\n",
    "        source_file.write(f'{source_word}\\n')\n",
    "        \n",
    "with open('/home/sugimoto/document_summarizer/vocab/ja_vocab.txt', 'w') as target_file:\n",
    "    for target_word in tgt_vocab:\n",
    "        target_file.write(f'{target_word}\\n')"
   ]
  },
  {
   "cell_type": "code",
   "execution_count": 35,
   "metadata": {},
   "outputs": [],
   "source": [
    "rows = []\n",
    "for body, summary in zip(body_list, summary_list):\n",
    "    rows.append({'body': body, 'summary': [summary]})"
   ]
  },
  {
   "cell_type": "code",
   "execution_count": 37,
   "metadata": {},
   "outputs": [
    {
     "data": {
      "text/plain": [
       "50000"
      ]
     },
     "execution_count": 37,
     "metadata": {},
     "output_type": "execute_result"
    }
   ],
   "source": [
    "len(rows)"
   ]
  },
  {
   "cell_type": "code",
   "execution_count": 36,
   "metadata": {},
   "outputs": [],
   "source": [
    "dataframe = pd.DataFrame(rows)\n",
    "dataframe.to_json('/home/sugimoto/document_summarizer/data/en2ja_train.json', orient='records', force_ascii=False, indent=1)"
   ]
  },
  {
   "cell_type": "code",
   "execution_count": null,
   "metadata": {},
   "outputs": [],
   "source": []
  }
 ],
 "metadata": {
  "kernelspec": {
   "display_name": "venv",
   "language": "python",
   "name": "venv"
  },
  "language_info": {
   "codemirror_mode": {
    "name": "ipython",
    "version": 3
   },
   "file_extension": ".py",
   "mimetype": "text/x-python",
   "name": "python",
   "nbconvert_exporter": "python",
   "pygments_lexer": "ipython3",
   "version": "3.8.5"
  }
 },
 "nbformat": 4,
 "nbformat_minor": 2
}
